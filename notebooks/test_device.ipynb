{
 "cells": [
  {
   "cell_type": "code",
   "execution_count": 1,
   "metadata": {},
   "outputs": [],
   "source": [
    "from device.dg4202 import DG4202Detector,DG4202Interface,DG4202Ethernet,DG4202, DG4202MockInterface, DG4202StateMachine\n",
    "from api.dg4202_api import DG4202APIServer\n",
    "import requests\n",
    "import json"
   ]
  },
  {
   "attachments": {},
   "cell_type": "markdown",
   "metadata": {},
   "source": [
    "# Create the mock server"
   ]
  },
  {
   "attachments": {},
   "cell_type": "markdown",
   "metadata": {},
   "source": [
    "# Launch the API server\n",
    "\n",
    "The main reason to do this is to modify the values outside of the app, to simulate modifying parameters IRL."
   ]
  },
  {
   "cell_type": "code",
   "execution_count": null,
   "metadata": {},
   "outputs": [],
   "source": []
  },
  {
   "attachments": {},
   "cell_type": "markdown",
   "metadata": {},
   "source": [
    "Setting it remotely"
   ]
  },
  {
   "cell_type": "code",
   "execution_count": 49,
   "metadata": {},
   "outputs": [
    {
     "name": "stdout",
     "output_type": "stream",
     "text": [
      "{'error': 'OUTPut1 OFF failed.'}\n"
     ]
    }
   ],
   "source": [
    "response = requests.post('http://127.0.0.1:5000/api/command', json={'command': 'OUTPut1 OFF'})\n",
    "print(response.json())"
   ]
  },
  {
   "attachments": {},
   "cell_type": "markdown",
   "metadata": {},
   "source": [
    "Reading it remotely"
   ]
  },
  {
   "cell_type": "code",
   "execution_count": 57,
   "metadata": {},
   "outputs": [
    {
     "name": "stdout",
     "output_type": "stream",
     "text": [
      "{'status': 'true sent'}\n"
     ]
    }
   ],
   "source": [
    "response = requests.post('http://127.0.0.1:5000/api/simulate_kill', json={'kill': 'true'})\n",
    "print(response.json())\n"
   ]
  },
  {
   "cell_type": "code",
   "execution_count": 58,
   "metadata": {},
   "outputs": [
    {
     "name": "stdout",
     "output_type": "stream",
     "text": [
      "{'status': 'false sent'}\n"
     ]
    }
   ],
   "source": [
    "response = requests.post('http://127.0.0.1:5000/api/simulate_kill', json={'kill': 'false'})\n",
    "print(response.json())\n"
   ]
  },
  {
   "cell_type": "code",
   "execution_count": 7,
   "metadata": {},
   "outputs": [
    {
     "name": "stdout",
     "output_type": "stream",
     "text": [
      "{'state': None}\n"
     ]
    }
   ],
   "source": [
    "response = requests.get('http://127.0.0.1:5000/api/state?state=OUTPut1')\n",
    "print(response.json())\n"
   ]
  },
  {
   "cell_type": "code",
   "execution_count": 72,
   "metadata": {},
   "outputs": [
    {
     "data": {
      "text/plain": [
       "\"Output: ON, Current mode: {'mode': 'off', 'parameters': {}}, Current waveform parameters: {'waveform_type': 'SQU', 'frequency': '100', 'amplitude': '3', 'offset': '1'}\""
      ]
     },
     "execution_count": 72,
     "metadata": {},
     "output_type": "execute_result"
    }
   ],
   "source": [
    "test_gen.get_status(1)"
   ]
  },
  {
   "cell_type": "code",
   "execution_count": 17,
   "metadata": {},
   "outputs": [
    {
     "data": {
      "text/plain": [
       "\"Output: ON, Current mode: {'mode': 'off', 'parameters': {}}, Current waveform parameters: {'waveform_type': 'SQU', 'frequency': '100', 'amplitude': '3', 'offset': '1'}\""
      ]
     },
     "execution_count": 17,
     "metadata": {},
     "output_type": "execute_result"
    }
   ],
   "source": [
    "test_gen.set_waveform(1,'SQU',100,3,1)"
   ]
  },
  {
   "cell_type": "code",
   "execution_count": null,
   "metadata": {},
   "outputs": [],
   "source": []
  },
  {
   "cell_type": "code",
   "execution_count": null,
   "metadata": {},
   "outputs": [],
   "source": [
    "my_generator = DG4202Detector.detect_device()\n",
    "if my_generator:\n",
    "    my_generator.set_mode('off')\n",
    "    #freq is in KHZ\n",
    "    my_generator.set_waveform(waveform_type='SINE', frequency=375, amplitude=3.3, offset=0.0)\n",
    "    print(my_generator.check_status())\n",
    "    my_generator.output_on_off(False)\n",
    "    print(f\"mode is set to {my_generator.get_mode()}\")\n",
    "    print(f\"OUTPUT1 is {my_generator.get_output_status()}\")\n",
    "    print(f\"CH1 parameters {my_generator.get_waveform_parameters()}\")"
   ]
  }
 ],
 "metadata": {
  "kernelspec": {
   "display_name": "Python 3",
   "language": "python",
   "name": "python3"
  },
  "language_info": {
   "codemirror_mode": {
    "name": "ipython",
    "version": 3
   },
   "file_extension": ".py",
   "mimetype": "text/x-python",
   "name": "python",
   "nbconvert_exporter": "python",
   "pygments_lexer": "ipython3",
   "version": "3.10.10"
  },
  "orig_nbformat": 4
 },
 "nbformat": 4,
 "nbformat_minor": 2
}
